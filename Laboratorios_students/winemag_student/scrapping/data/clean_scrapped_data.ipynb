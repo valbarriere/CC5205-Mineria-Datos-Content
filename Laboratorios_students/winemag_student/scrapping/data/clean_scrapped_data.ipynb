{
 "cells": [
  {
   "cell_type": "code",
   "execution_count": 1,
   "id": "be67adf0",
   "metadata": {},
   "outputs": [],
   "source": [
    "import pandas as pd \n",
    "import os "
   ]
  },
  {
   "cell_type": "markdown",
   "id": "d1818912",
   "metadata": {},
   "source": [
    "## `wine_page_to_mine`"
   ]
  },
  {
   "cell_type": "code",
   "execution_count": 40,
   "id": "13caadad",
   "metadata": {},
   "outputs": [],
   "source": [
    "def post_pro_df(raw_wine_dataset):\n",
    "    \"\"\"\n",
    "    Clean\n",
    "    \"\"\"\n",
    "    # Postprocess val\n",
    "    raw_wine_dataset.drop('rating', axis=1, inplace=True)\n",
    "    raw_wine_dataset.rename(columns={'Description' : 'Description_raw'}, inplace=True)\n",
    "    list_desc = raw_wine_dataset['Description_raw'].map(lambda x: x.replace('\\n', ' ').split('                      ')).values\n",
    "    raw_wine_dataset['Description'] = [k[1] if len(k) > 1 else '' for k in list_desc ]\n",
    "    raw_wine_dataset['Reviewer'] = [k[-1] for k in list_desc]\n",
    "    raw_wine_dataset = raw_wine_dataset[['Name', 'Category', 'Variety', 'Appellation', 'Country', 'Province', 'Region', \n",
    "                                         'Subregion', 'Winery', 'Designation', 'Vintage', 'Bottle Size', 'Alcohol',\n",
    "                                         'Description', 'Date Published', 'Price', 'Rating', 'Reviewer',\n",
    "                                         'User Avg Rating', 'url']]\n",
    "    df['index'] = df.index\n",
    "    return raw_wine_dataset"
   ]
  },
  {
   "cell_type": "code",
   "execution_count": 49,
   "id": "e92aa27f",
   "metadata": {},
   "outputs": [],
   "source": [
    "df = pd.read_csv(fn)\n",
    "df['url'] = ''\n",
    "df.to_csv(fn)"
   ]
  },
  {
   "cell_type": "code",
   "execution_count": 52,
   "id": "3c9541d8",
   "metadata": {},
   "outputs": [
    {
     "name": "stdout",
     "output_type": "stream",
     "text": [
      "(302919, 22)\n"
     ]
    }
   ],
   "source": [
    "from glob import glob\n",
    "\n",
    "for i, fn in enumerate(glob(r'all_scraped_wine_info*[a-zA-Z].csv')):\n",
    "    wine_variety = os.path.splitext(fn.split('_info_')[1])[0]\n",
    "    # print(wine_variety)\n",
    "    dfn = post_pro_df(pd.read_csv(fn, index_col=0))\n",
    "    dfn['variety_scrapping'] = wine_variety\n",
    "\n",
    "    if i: \n",
    "        df = pd.concat((df, dfn))\n",
    "    else:\n",
    "        df = dfn\n",
    "    \n",
    "print(df.shape)"
   ]
  },
  {
   "cell_type": "code",
   "execution_count": 53,
   "id": "119044b7",
   "metadata": {},
   "outputs": [],
   "source": [
    "df.to_csv('all_wines_scrapped.csv', index=False)"
   ]
  },
  {
   "cell_type": "code",
   "execution_count": 51,
   "id": "d1337113",
   "metadata": {},
   "outputs": [],
   "source": []
  },
  {
   "cell_type": "markdown",
   "id": "b3f7f384",
   "metadata": {},
   "source": [
    "#### Notes : \n",
    "\n",
    "* Des fois on a pas de review mais juste le nom du taster \n",
    "* "
   ]
  },
  {
   "cell_type": "code",
   "execution_count": 2,
   "id": "c51c27a1",
   "metadata": {},
   "outputs": [],
   "source": [
    "wine_variety='Zinfandel'"
   ]
  },
  {
   "cell_type": "code",
   "execution_count": 3,
   "id": "a5a46a82",
   "metadata": {},
   "outputs": [
    {
     "data": {
      "text/html": [
       "<div>\n",
       "<style scoped>\n",
       "    .dataframe tbody tr th:only-of-type {\n",
       "        vertical-align: middle;\n",
       "    }\n",
       "\n",
       "    .dataframe tbody tr th {\n",
       "        vertical-align: top;\n",
       "    }\n",
       "\n",
       "    .dataframe thead th {\n",
       "        text-align: right;\n",
       "    }\n",
       "</style>\n",
       "<table border=\"1\" class=\"dataframe\">\n",
       "  <thead>\n",
       "    <tr style=\"text-align: right;\">\n",
       "      <th></th>\n",
       "      <th>0</th>\n",
       "    </tr>\n",
       "  </thead>\n",
       "  <tbody>\n",
       "    <tr>\n",
       "      <th>0</th>\n",
       "      <td>https://www.winemag.com/buying-guide/scar-of-t...</td>\n",
       "    </tr>\n",
       "    <tr>\n",
       "      <th>1</th>\n",
       "      <td>https://www.winemag.com/buying-guide/baca-2019...</td>\n",
       "    </tr>\n",
       "    <tr>\n",
       "      <th>2</th>\n",
       "      <td>https://www.winemag.com/buying-guide/dubost-20...</td>\n",
       "    </tr>\n",
       "    <tr>\n",
       "      <th>3</th>\n",
       "      <td>https://www.winemag.com/buying-guide/husch-201...</td>\n",
       "    </tr>\n",
       "    <tr>\n",
       "      <th>4</th>\n",
       "      <td>https://www.winemag.com/buying-guide/decoy-201...</td>\n",
       "    </tr>\n",
       "    <tr>\n",
       "      <th>...</th>\n",
       "      <td>...</td>\n",
       "    </tr>\n",
       "    <tr>\n",
       "      <th>4134</th>\n",
       "      <td>https://www.winemag.com/buying-guide/hammersky...</td>\n",
       "    </tr>\n",
       "    <tr>\n",
       "      <th>4135</th>\n",
       "      <td>https://www.winemag.com/buying-guide/jacuzzi-2...</td>\n",
       "    </tr>\n",
       "    <tr>\n",
       "      <th>4136</th>\n",
       "      <td>https://www.winemag.com/buying-guide/sorelle-w...</td>\n",
       "    </tr>\n",
       "    <tr>\n",
       "      <th>4137</th>\n",
       "      <td>https://www.winemag.com/buying-guide/zynthesis...</td>\n",
       "    </tr>\n",
       "    <tr>\n",
       "      <th>4138</th>\n",
       "      <td>https://www.winemag.com/buying-guide/novy-2009...</td>\n",
       "    </tr>\n",
       "  </tbody>\n",
       "</table>\n",
       "<p>4139 rows × 1 columns</p>\n",
       "</div>"
      ],
      "text/plain": [
       "                                                      0\n",
       "0     https://www.winemag.com/buying-guide/scar-of-t...\n",
       "1     https://www.winemag.com/buying-guide/baca-2019...\n",
       "2     https://www.winemag.com/buying-guide/dubost-20...\n",
       "3     https://www.winemag.com/buying-guide/husch-201...\n",
       "4     https://www.winemag.com/buying-guide/decoy-201...\n",
       "...                                                 ...\n",
       "4134  https://www.winemag.com/buying-guide/hammersky...\n",
       "4135  https://www.winemag.com/buying-guide/jacuzzi-2...\n",
       "4136  https://www.winemag.com/buying-guide/sorelle-w...\n",
       "4137  https://www.winemag.com/buying-guide/zynthesis...\n",
       "4138  https://www.winemag.com/buying-guide/novy-2009...\n",
       "\n",
       "[4139 rows x 1 columns]"
      ]
     },
     "execution_count": 3,
     "metadata": {},
     "output_type": "execute_result"
    }
   ],
   "source": [
    "dfm = pd.read_csv('wine_pages_to_mine_%s.csv'%wine_variety, index_col=0)\n",
    "dfm"
   ]
  },
  {
   "cell_type": "code",
   "execution_count": 4,
   "id": "e6516448",
   "metadata": {},
   "outputs": [
    {
     "data": {
      "text/plain": [
       "16"
      ]
     },
     "execution_count": 4,
     "metadata": {},
     "output_type": "execute_result"
    }
   ],
   "source": [
    "dfm.duplicated().sum()"
   ]
  },
  {
   "cell_type": "code",
   "execution_count": 51,
   "id": "004ed5bf",
   "metadata": {},
   "outputs": [
    {
     "data": {
      "text/plain": [
       "4123"
      ]
     },
     "execution_count": 51,
     "metadata": {},
     "output_type": "execute_result"
    }
   ],
   "source": [
    "len(dfm[~dfm.duplicated()])"
   ]
  },
  {
   "cell_type": "code",
   "execution_count": 5,
   "id": "f582a916",
   "metadata": {},
   "outputs": [],
   "source": [
    "dfm[~dfm.duplicated()].to_csv('wine_pages_to_mine_%s.csv'%wine_variety)"
   ]
  },
  {
   "cell_type": "code",
   "execution_count": 6,
   "id": "4fce6246",
   "metadata": {},
   "outputs": [],
   "source": [
    "wine_file = 'all_scraped_wine_info_%s_ini.csv'%wine_variety\n",
    "\n",
    "df = pd.read_csv(wine_file, index_col=0)"
   ]
  },
  {
   "cell_type": "code",
   "execution_count": 7,
   "id": "2dabf379",
   "metadata": {},
   "outputs": [],
   "source": [
    "df = df[~df.duplicated()]"
   ]
  },
  {
   "cell_type": "markdown",
   "id": "f4062e1b",
   "metadata": {},
   "source": [
    "On a bien le meme nombre de lignes ! Il faudrait peut etre faire un `set()` sur les wine pages to mine avant ! "
   ]
  },
  {
   "cell_type": "code",
   "execution_count": 10,
   "id": "b33d5016",
   "metadata": {},
   "outputs": [
    {
     "data": {
      "text/plain": [
       "Index(['Name', 'Vintage', 'Rating', 'Description', 'rating', 'Price',\n",
       "       'Designation', 'Variety', 'Country', 'Province', 'Region', 'Subregion',\n",
       "       'Appellation', 'Winery', 'Alcohol', 'Bottle Size', 'Category',\n",
       "       'Date Published', 'User Avg Rating', 'Description_bis', 'Reviewer',\n",
       "       'Reviewer Twitter Handle', 'Importer', 'Zinfandel',\n",
       "       'Fiddletown, Sierra Foothills, California, US',\n",
       "       'Lodi, Central Valley, California, US',\n",
       "       'Paso Robles, Central Coast, California, US'],\n",
       "      dtype='object')"
      ]
     },
     "execution_count": 10,
     "metadata": {},
     "output_type": "execute_result"
    }
   ],
   "source": [
    "df.columns"
   ]
  },
  {
   "cell_type": "code",
   "execution_count": 11,
   "id": "011a831f",
   "metadata": {},
   "outputs": [],
   "source": [
    "df.to_csv('all_scraped_wine_info_%s.csv'%wine_variety, index=False)"
   ]
  },
  {
   "cell_type": "code",
   "execution_count": 8,
   "id": "47ddc69c",
   "metadata": {},
   "outputs": [
    {
     "data": {
      "text/plain": [
       "4123"
      ]
     },
     "execution_count": 8,
     "metadata": {},
     "output_type": "execute_result"
    }
   ],
   "source": [
    "len(df)"
   ]
  },
  {
   "cell_type": "code",
   "execution_count": 48,
   "id": "d1052736",
   "metadata": {},
   "outputs": [
    {
     "data": {
      "text/html": [
       "<div>\n",
       "<style scoped>\n",
       "    .dataframe tbody tr th:only-of-type {\n",
       "        vertical-align: middle;\n",
       "    }\n",
       "\n",
       "    .dataframe tbody tr th {\n",
       "        vertical-align: top;\n",
       "    }\n",
       "\n",
       "    .dataframe thead th {\n",
       "        text-align: right;\n",
       "    }\n",
       "</style>\n",
       "<table border=\"1\" class=\"dataframe\">\n",
       "  <thead>\n",
       "    <tr style=\"text-align: right;\">\n",
       "      <th></th>\n",
       "      <th>Name</th>\n",
       "      <th>Vintage</th>\n",
       "      <th>Rating</th>\n",
       "      <th>Description</th>\n",
       "      <th>rating</th>\n",
       "      <th>Price</th>\n",
       "      <th>Designation</th>\n",
       "      <th>Variety</th>\n",
       "      <th>Country</th>\n",
       "      <th>Province</th>\n",
       "      <th>...</th>\n",
       "      <th>Winery</th>\n",
       "      <th>Alcohol</th>\n",
       "      <th>Bottle Size</th>\n",
       "      <th>Category</th>\n",
       "      <th>Date Published</th>\n",
       "      <th>User Avg Rating</th>\n",
       "      <th>Description_bis</th>\n",
       "      <th>Reviewer</th>\n",
       "      <th>Reviewer Twitter Handle</th>\n",
       "      <th>Importer</th>\n",
       "    </tr>\n",
       "  </thead>\n",
       "  <tbody>\n",
       "    <tr>\n",
       "      <th>0</th>\n",
       "      <td>Scar of the Sea 2020 Lopez Vineyard Zinfandel ...</td>\n",
       "      <td>2020.0</td>\n",
       "      <td>94</td>\n",
       "      <td>\\n                      This is old-vine Zinfa...</td>\n",
       "      <td>94</td>\n",
       "      <td>$28</td>\n",
       "      <td>Lopez Vineyard</td>\n",
       "      <td>Zinfandel</td>\n",
       "      <td>US</td>\n",
       "      <td>California</td>\n",
       "      <td>...</td>\n",
       "      <td>Scar of the Sea</td>\n",
       "      <td>14%</td>\n",
       "      <td>750 ml</td>\n",
       "      <td>Red</td>\n",
       "      <td>11/1/2021</td>\n",
       "      <td>Not rated yet [Add Your Review]</td>\n",
       "      <td>This is old-vine Zinfandel at its finest. From...</td>\n",
       "      <td>Matt Kettmann</td>\n",
       "      <td>NaN</td>\n",
       "      <td>NaN</td>\n",
       "    </tr>\n",
       "    <tr>\n",
       "      <th>2</th>\n",
       "      <td>Baca 2019 Somersault Pacini Vineyard Zinfandel...</td>\n",
       "      <td>2019.0</td>\n",
       "      <td>92</td>\n",
       "      <td>\\n                      Concentrated, intense ...</td>\n",
       "      <td>92</td>\n",
       "      <td>$50</td>\n",
       "      <td>Somersault Pacini Vineyard</td>\n",
       "      <td>Zinfandel</td>\n",
       "      <td>US</td>\n",
       "      <td>California</td>\n",
       "      <td>...</td>\n",
       "      <td>Baca</td>\n",
       "      <td>15.3%</td>\n",
       "      <td>750 ml</td>\n",
       "      <td>Red</td>\n",
       "      <td>11/1/2021</td>\n",
       "      <td>Not rated yet [Add Your Review]</td>\n",
       "      <td>Concentrated, intense red and black fruit flav...</td>\n",
       "      <td>Jim Gordon</td>\n",
       "      <td>NaN</td>\n",
       "      <td>NaN</td>\n",
       "    </tr>\n",
       "    <tr>\n",
       "      <th>4</th>\n",
       "      <td>Dubost 2019 Worth Hill Vineyard Zinfandel (Ade...</td>\n",
       "      <td>2019.0</td>\n",
       "      <td>92</td>\n",
       "      <td>\\n                      Fresh and tightly woun...</td>\n",
       "      <td>92</td>\n",
       "      <td>$55</td>\n",
       "      <td>Worth Hill Vineyard</td>\n",
       "      <td>Zinfandel</td>\n",
       "      <td>US</td>\n",
       "      <td>California</td>\n",
       "      <td>...</td>\n",
       "      <td>Dubost</td>\n",
       "      <td>15.75%</td>\n",
       "      <td>750 ml</td>\n",
       "      <td>Red</td>\n",
       "      <td>11/1/2021</td>\n",
       "      <td>Not rated yet [Add Your Review]</td>\n",
       "      <td>Fresh and tightly wound raspberry aromas meet ...</td>\n",
       "      <td>Matt Kettmann</td>\n",
       "      <td>NaN</td>\n",
       "      <td>NaN</td>\n",
       "    </tr>\n",
       "    <tr>\n",
       "      <th>6</th>\n",
       "      <td>Husch 2019 Garzini Ranch Old Vines Estate Zinf...</td>\n",
       "      <td>2019.0</td>\n",
       "      <td>92</td>\n",
       "      <td>\\n                      This wine is a minor c...</td>\n",
       "      <td>92</td>\n",
       "      <td>$25</td>\n",
       "      <td>Garzini Ranch Old Vines Estate</td>\n",
       "      <td>Zinfandel</td>\n",
       "      <td>US</td>\n",
       "      <td>California</td>\n",
       "      <td>...</td>\n",
       "      <td>Husch</td>\n",
       "      <td>14.8%</td>\n",
       "      <td>750 ml</td>\n",
       "      <td>Red</td>\n",
       "      <td>11/1/2021</td>\n",
       "      <td>Not rated yet [Add Your Review]</td>\n",
       "      <td>This wine is a minor classic, showing a great ...</td>\n",
       "      <td>Jim Gordon</td>\n",
       "      <td>NaN</td>\n",
       "      <td>NaN</td>\n",
       "    </tr>\n",
       "    <tr>\n",
       "      <th>8</th>\n",
       "      <td>Decoy 2019 Zinfandel (California)</td>\n",
       "      <td>2019.0</td>\n",
       "      <td>92</td>\n",
       "      <td>\\n                      The signature briary, ...</td>\n",
       "      <td>92</td>\n",
       "      <td>$25</td>\n",
       "      <td>NaN</td>\n",
       "      <td>Zinfandel</td>\n",
       "      <td>US</td>\n",
       "      <td>California</td>\n",
       "      <td>...</td>\n",
       "      <td>Decoy</td>\n",
       "      <td>13.9%</td>\n",
       "      <td>750 ml</td>\n",
       "      <td>Red</td>\n",
       "      <td>11/1/2021</td>\n",
       "      <td>Not rated yet [Add Your Review]</td>\n",
       "      <td>The signature briary, black-peppery characteri...</td>\n",
       "      <td>Jim Gordon</td>\n",
       "      <td>NaN</td>\n",
       "      <td>NaN</td>\n",
       "    </tr>\n",
       "    <tr>\n",
       "      <th>...</th>\n",
       "      <td>...</td>\n",
       "      <td>...</td>\n",
       "      <td>...</td>\n",
       "      <td>...</td>\n",
       "      <td>...</td>\n",
       "      <td>...</td>\n",
       "      <td>...</td>\n",
       "      <td>...</td>\n",
       "      <td>...</td>\n",
       "      <td>...</td>\n",
       "      <td>...</td>\n",
       "      <td>...</td>\n",
       "      <td>...</td>\n",
       "      <td>...</td>\n",
       "      <td>...</td>\n",
       "      <td>...</td>\n",
       "      <td>...</td>\n",
       "      <td>...</td>\n",
       "      <td>...</td>\n",
       "      <td>...</td>\n",
       "      <td>...</td>\n",
       "    </tr>\n",
       "    <tr>\n",
       "      <th>8268</th>\n",
       "      <td>HammerSky 2008 Estate Zinfandel (Paso Robles)</td>\n",
       "      <td>2008.0</td>\n",
       "      <td>84</td>\n",
       "      <td>\\n                      Some overripe raisin f...</td>\n",
       "      <td>84</td>\n",
       "      <td>$39</td>\n",
       "      <td>Estate</td>\n",
       "      <td>Zinfandel</td>\n",
       "      <td>US</td>\n",
       "      <td>California</td>\n",
       "      <td>...</td>\n",
       "      <td>HammerSky</td>\n",
       "      <td>14.8%</td>\n",
       "      <td>750 ml</td>\n",
       "      <td>Red</td>\n",
       "      <td>11/1/2011</td>\n",
       "      <td>Not rated yet [Add Your Review]</td>\n",
       "      <td>Some overripe raisin flavors give this Zin a b...</td>\n",
       "      <td></td>\n",
       "      <td>NaN</td>\n",
       "      <td>NaN</td>\n",
       "    </tr>\n",
       "    <tr>\n",
       "      <th>8270</th>\n",
       "      <td>Jacuzzi 2009 Primitivo (Lake County)</td>\n",
       "      <td>2009.0</td>\n",
       "      <td>84</td>\n",
       "      <td>\\n                      Something is lacking i...</td>\n",
       "      <td>84</td>\n",
       "      <td>$22</td>\n",
       "      <td>NaN</td>\n",
       "      <td>Primitivo, Zinfandel</td>\n",
       "      <td>US</td>\n",
       "      <td>California</td>\n",
       "      <td>...</td>\n",
       "      <td>Jacuzzi</td>\n",
       "      <td>15%</td>\n",
       "      <td>750 ml</td>\n",
       "      <td>Red</td>\n",
       "      <td>11/1/2011</td>\n",
       "      <td>Not rated yet [Add Your Review]</td>\n",
       "      <td>Something is lacking in this, which has a domi...</td>\n",
       "      <td>Virginie Boone</td>\n",
       "      <td>NaN</td>\n",
       "      <td>NaN</td>\n",
       "    </tr>\n",
       "    <tr>\n",
       "      <th>8272</th>\n",
       "      <td>Sorelle Winery 2009 Sorriso Primitivo (Lodi)</td>\n",
       "      <td>2009.0</td>\n",
       "      <td>84</td>\n",
       "      <td>\\n                      Tight and tannic, like...</td>\n",
       "      <td>84</td>\n",
       "      <td>$22</td>\n",
       "      <td>Sorriso</td>\n",
       "      <td>Primitivo, Zinfandel</td>\n",
       "      <td>US</td>\n",
       "      <td>California</td>\n",
       "      <td>...</td>\n",
       "      <td>Sorelle Winery</td>\n",
       "      <td>14.75%</td>\n",
       "      <td>750 ml</td>\n",
       "      <td>Red</td>\n",
       "      <td>11/1/2011</td>\n",
       "      <td>Not rated yet [Add Your Review]</td>\n",
       "      <td>Tight and tannic, like red brick, bread and ca...</td>\n",
       "      <td>Virginie Boone</td>\n",
       "      <td>NaN</td>\n",
       "      <td>NaN</td>\n",
       "    </tr>\n",
       "    <tr>\n",
       "      <th>8274</th>\n",
       "      <td>Zynthesis 2009 Old Vine Zinfandel Zinfandel (L...</td>\n",
       "      <td>2009.0</td>\n",
       "      <td>84</td>\n",
       "      <td>\\n                      One must strain to sme...</td>\n",
       "      <td>84</td>\n",
       "      <td>$11</td>\n",
       "      <td>Old Vine Zinfandel</td>\n",
       "      <td>Zinfandel</td>\n",
       "      <td>US</td>\n",
       "      <td>California</td>\n",
       "      <td>...</td>\n",
       "      <td>Zynthesis</td>\n",
       "      <td>14.8%</td>\n",
       "      <td>750 ml</td>\n",
       "      <td>Red</td>\n",
       "      <td>11/1/2011</td>\n",
       "      <td>Not rated yet [Add Your Review]</td>\n",
       "      <td>One must strain to smell the ripe plum at firs...</td>\n",
       "      <td>Virginie Boone</td>\n",
       "      <td>NaN</td>\n",
       "      <td>NaN</td>\n",
       "    </tr>\n",
       "    <tr>\n",
       "      <th>8276</th>\n",
       "      <td>Novy 2009 Carlisle Vineyard Zinfandel (Russian...</td>\n",
       "      <td>2009.0</td>\n",
       "      <td>84</td>\n",
       "      <td>\\n                      Too sweet. Whether tha...</td>\n",
       "      <td>84</td>\n",
       "      <td>$34</td>\n",
       "      <td>Carlisle Vineyard</td>\n",
       "      <td>Zinfandel</td>\n",
       "      <td>US</td>\n",
       "      <td>California</td>\n",
       "      <td>...</td>\n",
       "      <td>Novy</td>\n",
       "      <td>15.3%</td>\n",
       "      <td>750 ml</td>\n",
       "      <td>Red</td>\n",
       "      <td>11/1/2011</td>\n",
       "      <td>Not rated yet [Add Your Review]</td>\n",
       "      <td>Too sweet. Whether that's because of leftover ...</td>\n",
       "      <td></td>\n",
       "      <td>NaN</td>\n",
       "      <td>NaN</td>\n",
       "    </tr>\n",
       "  </tbody>\n",
       "</table>\n",
       "<p>4123 rows × 23 columns</p>\n",
       "</div>"
      ],
      "text/plain": [
       "                                                   Name  Vintage  Rating  \\\n",
       "0     Scar of the Sea 2020 Lopez Vineyard Zinfandel ...   2020.0      94   \n",
       "2     Baca 2019 Somersault Pacini Vineyard Zinfandel...   2019.0      92   \n",
       "4     Dubost 2019 Worth Hill Vineyard Zinfandel (Ade...   2019.0      92   \n",
       "6     Husch 2019 Garzini Ranch Old Vines Estate Zinf...   2019.0      92   \n",
       "8                     Decoy 2019 Zinfandel (California)   2019.0      92   \n",
       "...                                                 ...      ...     ...   \n",
       "8268      HammerSky 2008 Estate Zinfandel (Paso Robles)   2008.0      84   \n",
       "8270               Jacuzzi 2009 Primitivo (Lake County)   2009.0      84   \n",
       "8272       Sorelle Winery 2009 Sorriso Primitivo (Lodi)   2009.0      84   \n",
       "8274  Zynthesis 2009 Old Vine Zinfandel Zinfandel (L...   2009.0      84   \n",
       "8276  Novy 2009 Carlisle Vineyard Zinfandel (Russian...   2009.0      84   \n",
       "\n",
       "                                            Description  rating Price  \\\n",
       "0     \\n                      This is old-vine Zinfa...      94   $28   \n",
       "2     \\n                      Concentrated, intense ...      92   $50   \n",
       "4     \\n                      Fresh and tightly woun...      92   $55   \n",
       "6     \\n                      This wine is a minor c...      92   $25   \n",
       "8     \\n                      The signature briary, ...      92   $25   \n",
       "...                                                 ...     ...   ...   \n",
       "8268  \\n                      Some overripe raisin f...      84   $39   \n",
       "8270  \\n                      Something is lacking i...      84   $22   \n",
       "8272  \\n                      Tight and tannic, like...      84   $22   \n",
       "8274  \\n                      One must strain to sme...      84   $11   \n",
       "8276  \\n                      Too sweet. Whether tha...      84   $34   \n",
       "\n",
       "                         Designation               Variety Country  \\\n",
       "0                     Lopez Vineyard             Zinfandel      US   \n",
       "2         Somersault Pacini Vineyard             Zinfandel      US   \n",
       "4                Worth Hill Vineyard             Zinfandel      US   \n",
       "6     Garzini Ranch Old Vines Estate             Zinfandel      US   \n",
       "8                                NaN             Zinfandel      US   \n",
       "...                              ...                   ...     ...   \n",
       "8268                          Estate             Zinfandel      US   \n",
       "8270                             NaN  Primitivo, Zinfandel      US   \n",
       "8272                         Sorriso  Primitivo, Zinfandel      US   \n",
       "8274              Old Vine Zinfandel             Zinfandel      US   \n",
       "8276               Carlisle Vineyard             Zinfandel      US   \n",
       "\n",
       "         Province  ...           Winery Alcohol Bottle Size Category  \\\n",
       "0      California  ...  Scar of the Sea     14%      750 ml      Red   \n",
       "2      California  ...             Baca   15.3%      750 ml      Red   \n",
       "4      California  ...           Dubost  15.75%      750 ml      Red   \n",
       "6      California  ...            Husch   14.8%      750 ml      Red   \n",
       "8      California  ...            Decoy   13.9%      750 ml      Red   \n",
       "...           ...  ...              ...     ...         ...      ...   \n",
       "8268   California  ...        HammerSky   14.8%      750 ml      Red   \n",
       "8270   California  ...          Jacuzzi     15%      750 ml      Red   \n",
       "8272   California  ...   Sorelle Winery  14.75%      750 ml      Red   \n",
       "8274   California  ...        Zynthesis   14.8%      750 ml      Red   \n",
       "8276   California  ...             Novy   15.3%      750 ml      Red   \n",
       "\n",
       "     Date Published                  User Avg Rating  \\\n",
       "0         11/1/2021  Not rated yet [Add Your Review]   \n",
       "2         11/1/2021  Not rated yet [Add Your Review]   \n",
       "4         11/1/2021  Not rated yet [Add Your Review]   \n",
       "6         11/1/2021  Not rated yet [Add Your Review]   \n",
       "8         11/1/2021  Not rated yet [Add Your Review]   \n",
       "...             ...                              ...   \n",
       "8268      11/1/2011  Not rated yet [Add Your Review]   \n",
       "8270      11/1/2011  Not rated yet [Add Your Review]   \n",
       "8272      11/1/2011  Not rated yet [Add Your Review]   \n",
       "8274      11/1/2011  Not rated yet [Add Your Review]   \n",
       "8276      11/1/2011  Not rated yet [Add Your Review]   \n",
       "\n",
       "                                        Description_bis            Reviewer  \\\n",
       "0     This is old-vine Zinfandel at its finest. From...      Matt Kettmann    \n",
       "2     Concentrated, intense red and black fruit flav...         Jim Gordon    \n",
       "4     Fresh and tightly wound raspberry aromas meet ...      Matt Kettmann    \n",
       "6     This wine is a minor classic, showing a great ...         Jim Gordon    \n",
       "8     The signature briary, black-peppery characteri...         Jim Gordon    \n",
       "...                                                 ...                 ...   \n",
       "8268  Some overripe raisin flavors give this Zin a b...                       \n",
       "8270  Something is lacking in this, which has a domi...     Virginie Boone    \n",
       "8272  Tight and tannic, like red brick, bread and ca...     Virginie Boone    \n",
       "8274  One must strain to smell the ripe plum at firs...     Virginie Boone    \n",
       "8276  Too sweet. Whether that's because of leftover ...                       \n",
       "\n",
       "     Reviewer Twitter Handle Importer  \n",
       "0                        NaN      NaN  \n",
       "2                        NaN      NaN  \n",
       "4                        NaN      NaN  \n",
       "6                        NaN      NaN  \n",
       "8                        NaN      NaN  \n",
       "...                      ...      ...  \n",
       "8268                     NaN      NaN  \n",
       "8270                     NaN      NaN  \n",
       "8272                     NaN      NaN  \n",
       "8274                     NaN      NaN  \n",
       "8276                     NaN      NaN  \n",
       "\n",
       "[4123 rows x 23 columns]"
      ]
     },
     "execution_count": 48,
     "metadata": {},
     "output_type": "execute_result"
    }
   ],
   "source": [
    "df[df.columns[:-4]]"
   ]
  },
  {
   "cell_type": "markdown",
   "id": "b1c1ef2a",
   "metadata": {},
   "source": [
    "Example ou on a pas le reviewer --> Cela arrive 1444 fois dans le dataset = 17.44% \n",
    "\n",
    "https://www.winemag.com/buying-guide/novy-2009-carlisle-vineyard-zinfandel-sonoma-russian-river-valley/"
   ]
  },
  {
   "cell_type": "code",
   "execution_count": 13,
   "id": "6ca837e9",
   "metadata": {},
   "outputs": [
    {
     "name": "stdout",
     "output_type": "stream",
     "text": [
      "\n",
      "                      Too sweet. Whether that's because of leftover sugar, high alcohol or both, this Zin is more like a Porty dessert wine. It's delicious and rich, but the sweetness has to be counted as a defect.                                        \n"
     ]
    }
   ],
   "source": [
    "print(df.iloc[-1].Description)"
   ]
  },
  {
   "cell_type": "code",
   "execution_count": 14,
   "id": "1faf108a",
   "metadata": {},
   "outputs": [
    {
     "data": {
      "text/plain": [
       "Unnamed: 0                                                                                   8277\n",
       "Name                                            Novy 2009 Carlisle Vineyard Zinfandel (Russian...\n",
       "Vintage                                                                                    2009.0\n",
       "Rating                                                                                         84\n",
       "Description                                     \\n                      Too sweet. Whether tha...\n",
       "rating                                                                                         84\n",
       "Price                                                                                         $34\n",
       "Designation                                                                     Carlisle Vineyard\n",
       "Variety                                                                                 Zinfandel\n",
       "Country                                                                                        US\n",
       "Province                                                                               California\n",
       "Region                                                                                     Sonoma\n",
       "Subregion                                                                    Russian River Valley\n",
       "Appellation                                          Russian River Valley, Sonoma, California, US\n",
       "Winery                                                                                       Novy\n",
       "Alcohol                                                                                     15.3%\n",
       "Bottle Size                                                                                750 ml\n",
       "Category                                                                                      Red\n",
       "Date Published                                                                          11/1/2011\n",
       "User Avg Rating                                                   Not rated yet [Add Your Review]\n",
       "Description_bis                                 Too sweet. Whether that's because of leftover ...\n",
       "Reviewer                                                                                         \n",
       "Reviewer Twitter Handle                                                                       NaN\n",
       "Importer                                                                                      NaN\n",
       "Zinfandel                                                                                     NaN\n",
       "Fiddletown, Sierra Foothills, California, US                                                  NaN\n",
       "Lodi, Central Valley, California, US                                                          NaN\n",
       "Paso Robles, Central Coast, California, US                                                    NaN\n",
       "Name: 8277, dtype: object"
      ]
     },
     "execution_count": 14,
     "metadata": {},
     "output_type": "execute_result"
    }
   ],
   "source": [
    "df.iloc[-1]"
   ]
  },
  {
   "cell_type": "code",
   "execution_count": 22,
   "id": "4f8d4d55",
   "metadata": {},
   "outputs": [
    {
     "data": {
      "text/plain": [
       "0           Matt Kettmann \n",
       "1           Matt Kettmann \n",
       "2              Jim Gordon \n",
       "3              Jim Gordon \n",
       "4           Matt Kettmann \n",
       "               ...        \n",
       "8273       Virginie Boone \n",
       "8274       Virginie Boone \n",
       "8275       Virginie Boone \n",
       "8276                      \n",
       "8277                      \n",
       "Name: Reviewer, Length: 8278, dtype: object"
      ]
     },
     "execution_count": 22,
     "metadata": {},
     "output_type": "execute_result"
    }
   ],
   "source": [
    "df.Reviewer"
   ]
  },
  {
   "cell_type": "code",
   "execution_count": 26,
   "id": "1333d6a2",
   "metadata": {},
   "outputs": [
    {
     "data": {
      "text/plain": [
       "Virginie Boone         0.355400\n",
       "Jim Gordon             0.277603\n",
       "                       0.174438\n",
       "Matt Kettmann          0.115245\n",
       "Alexander Peartree     0.038415\n",
       "Sean P. Sullivan       0.014496\n",
       "Paul Gregutt           0.012563\n",
       "Kerin O’Keefe          0.011597\n",
       "Mike DeSimone          0.000242\n",
       "Name: Reviewer, dtype: float64"
      ]
     },
     "execution_count": 26,
     "metadata": {},
     "output_type": "execute_result"
    }
   ],
   "source": [
    "df.Reviewer.value_counts(normalize=True)"
   ]
  },
  {
   "cell_type": "code",
   "execution_count": null,
   "id": "32495572",
   "metadata": {},
   "outputs": [],
   "source": []
  }
 ],
 "metadata": {
  "kernelspec": {
   "display_name": "Python 3",
   "language": "python",
   "name": "python3"
  },
  "language_info": {
   "codemirror_mode": {
    "name": "ipython",
    "version": 3
   },
   "file_extension": ".py",
   "mimetype": "text/x-python",
   "name": "python",
   "nbconvert_exporter": "python",
   "pygments_lexer": "ipython3",
   "version": "3.7.7"
  }
 },
 "nbformat": 4,
 "nbformat_minor": 5
}
